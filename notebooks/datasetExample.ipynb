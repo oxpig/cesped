{
 "cells": [
  {
   "cell_type": "markdown",
   "id": "4c46c4f6-1e64-403b-ac15-9ed6456316e9",
   "metadata": {},
   "source": [
    "Install the dependencies if you don't have already installed them"
   ]
  },
  {
   "cell_type": "code",
   "execution_count": null,
   "id": "591947e6-3e46-42b7-b388-d309e1466f63",
   "metadata": {},
   "outputs": [],
   "source": [
    "#!pip install torch torchvision matplotlib lightning scipy starstack argParseFromDoc"
   ]
  },
  {
   "cell_type": "markdown",
   "id": "c0ab2ade-85b8-47f7-adfb-d779b35a8cd1",
   "metadata": {},
   "source": [
    "The ParticlesDataset class is a Pytorch Dataset class implemented to deal with cyo-EM particle data. You can import it from the package supervisedPoseBenchmark "
   ]
  },
  {
   "cell_type": "code",
   "execution_count": 2,
   "id": "1b61a9ab-240b-4f05-bd70-5697cd5e8073",
   "metadata": {},
   "outputs": [
    {
     "name": "stderr",
     "output_type": "stream",
     "text": [
      "/home/sanchezg/app/anaconda3/envs/ddCryoEM/lib/python3.9/site-packages/tqdm/auto.py:22: TqdmWarning: IProgress not found. Please update jupyter and ipywidgets. See https://ipywidgets.readthedocs.io/en/stable/user_install.html\n",
      "  from .autonotebook import tqdm as notebook_tqdm\n"
     ]
    },
    {
     "ename": "ModuleNotFoundError",
     "evalue": "No module named 'supervisedPoseBenchmark'",
     "output_type": "error",
     "traceback": [
      "\u001b[0;31m---------------------------------------------------------------------------\u001b[0m",
      "\u001b[0;31mModuleNotFoundError\u001b[0m                       Traceback (most recent call last)",
      "Cell \u001b[0;32mIn[2], line 3\u001b[0m\n\u001b[1;32m      1\u001b[0m \u001b[38;5;28;01mimport\u001b[39;00m \u001b[38;5;21;01mtorch\u001b[39;00m\n\u001b[1;32m      2\u001b[0m \u001b[38;5;28;01mimport\u001b[39;00m \u001b[38;5;21;01mmatplotlib\u001b[39;00m\u001b[38;5;21;01m.\u001b[39;00m\u001b[38;5;21;01mpyplot\u001b[39;00m \u001b[38;5;28;01mas\u001b[39;00m \u001b[38;5;21;01mplt\u001b[39;00m\n\u001b[0;32m----> 3\u001b[0m \u001b[38;5;28;01mfrom\u001b[39;00m \u001b[38;5;21;01msupervisedPoseBenchmark\u001b[39;00m\u001b[38;5;21;01m.\u001b[39;00m\u001b[38;5;21;01mparticlesDataset\u001b[39;00m \u001b[38;5;28;01mimport\u001b[39;00m ParticlesDataset \n",
      "\u001b[0;31mModuleNotFoundError\u001b[0m: No module named 'supervisedPoseBenchmark'"
     ]
    }
   ],
   "source": [
    "import torch\n",
    "import matplotlib.pyplot as plt\n",
    "from supervisedPoseBenchmark.particlesDataset import ParticlesDataset \n",
    "\n"
   ]
  },
  {
   "cell_type": "markdown",
   "id": "5a2d8730-33e7-4a73-9ccd-c92a283a5d07",
   "metadata": {},
   "source": [
    "You can list all the benchmark entries for download using"
   ]
  },
  {
   "cell_type": "markdown",
   "id": "43b69782-397e-4d89-a688-4113c5924d56",
   "metadata": {},
   "source": [
    "ParticlesDataset.getCESPEDEntries()"
   ]
  },
  {
   "cell_type": "code",
   "execution_count": null,
   "id": "01ad712b-7ed5-41e6-a2f7-3ea801f58132",
   "metadata": {},
   "outputs": [],
   "source": [
    "You can list the locally available benchmark entries using"
   ]
  },
  {
   "cell_type": "code",
   "execution_count": null,
   "id": "04d06cdd-6aff-4e3a-9977-2dc8b42859a9",
   "metadata": {},
   "outputs": [],
   "source": [
    "ParticlesDataset.getLocallyAvailableEntries()"
   ]
  },
  {
   "cell_type": "code",
   "execution_count": null,
   "id": "6c1a7e11-d339-40e6-b630-ffe083d7e0f8",
   "metadata": {},
   "outputs": [],
   "source": [
    "Then, you can load (and download if needed), the data using"
   ]
  },
  {
   "cell_type": "code",
   "execution_count": null,
   "id": "b47a4e56-0ec8-4278-81e1-8c936ac2a3ca",
   "metadata": {},
   "outputs": [],
   "source": [
    "dataset = ParticlesDataset(\n",
    "    targetName=\"TEST\", \n",
    "    halfset=0, \n",
    ")"
   ]
  },
  {
   "cell_type": "markdown",
   "id": "c9d0f26b-32b2-490d-bf27-c81632bddeca",
   "metadata": {},
   "source": [
    "Then you can use this dataset as any other"
   ]
  }
 ],
 "metadata": {
  "kernelspec": {
   "display_name": "Python 3 (ipykernel)",
   "language": "python",
   "name": "python3"
  },
  "language_info": {
   "codemirror_mode": {
    "name": "ipython",
    "version": 3
   },
   "file_extension": ".py",
   "mimetype": "text/x-python",
   "name": "python",
   "nbconvert_exporter": "python",
   "pygments_lexer": "ipython3",
   "version": "3.9.15"
  }
 },
 "nbformat": 4,
 "nbformat_minor": 5
}
