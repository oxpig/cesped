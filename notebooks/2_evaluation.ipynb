{
 "cells": [
  {
   "cell_type": "markdown",
   "id": "e6145edc-9496-490a-b71e-bbde60bb386f",
   "metadata": {},
   "source": [
    "# Evaluation\n",
    "In this notebook we will show how to run the evaluation tool. If you followed the previous notebook, you should have two files stored at `/tmp/`: `predicted_poses_0.star` and `predicted_poses_1.star`."
   ]
  },
  {
   "cell_type": "markdown",
   "id": "70549542-bf6c-4441-8c4f-96641320a4e1",
   "metadata": {},
   "source": [
    "To run the evaluation procedure you need to have a local installation of [RELION](https://relion.readthedocs.io/en/release-5.0/) or to build the singularity image we provide. Then you need to edit the `config/defaultRelionConfig.yaml` file to indicate where the RELION bin directory is, or where the built image is. To build the image, you just need to run:\n"
   ]
  },
  {
   "cell_type": "code",
   "execution_count": 14,
   "id": "43f00a34-d152-46f7-91cb-ef430b0b4e32",
   "metadata": {},
   "outputs": [
    {
     "name": "stdout",
     "output_type": "stream",
     "text": [
      "Using container recipe deffile: cesped/relionSingularity.def\n",
      "\u001b[31mERROR: You must be the root user to build from a Singularity recipe file\n",
      "\u001b(B\u001b[mCleaning up...\n"
     ]
    }
   ],
   "source": [
    "!singularity build -f  cesped/relionSingularity.sif cesped/relionSingularity.def"
   ]
  },
  {
   "cell_type": "markdown",
   "id": "710f7aba-2f9c-42d9-803e-821355856d48",
   "metadata": {},
   "source": [
    "Then, run the next code to evaluate your results. You would need to have enough RAM memory to work with this datas example (>40 GB)."
   ]
  },
  {
   "cell_type": "code",
   "execution_count": 4,
   "id": "90fb90af-c7a4-40ab-bbb2-ac546f45647c",
   "metadata": {},
   "outputs": [
    {
     "name": "stdout",
     "output_type": "stream",
     "text": [
      "Downloading mask\n",
      "Reusing file /tmp/evaluation/gt_0.mrc\n",
      "Reusing file /tmp/evaluation/gt_1.mrc\n",
      "Phase randomization at pixel 14 =              25 Å\n",
      "Phase randomization at pixel 14 =              25 Å\n",
      "/home/sanchezg/app/scipion/software/em/relion/bin/relion_reconstruct --i /tmp/tmp8_879gkt/prepStarFname0.star --o /tmp/tmpuechm0hr.mrc --ctf --sym c1 --pad 2.0 --fom_weighting\n",
      " + Taking data dimensions from the first optics group: 2\n",
      " + Taking angpix from the first optics group: 1.51338\n",
      " + Back-projecting all images ...\n",
      "  25/  25 sec ............................................................~~(,_,\">\n",
      " + Starting the reconstruction ...\n",
      " + Done! Written output map in: /tmp/tmpuechm0hr.mrc\n",
      "/home/sanchezg/app/scipion/software/em/relion/bin/relion_reconstruct --i /tmp/tmp8_879gkt/prepStarFname1.star --o /tmp/tmp_b74dkdn.mrc --ctf --sym c1 --pad 2.0 --fom_weighting\n",
      " + Taking data dimensions from the first optics group: 2\n",
      " + Taking angpix from the first optics group: 1.51338\n",
      " + Back-projecting all images ...\n",
      "  24/  24 sec ............................................................~~(,_,\">\n",
      " + Starting the reconstruction ...\n",
      " + Done! Written output map in: /tmp/tmp_b74dkdn.mrc\n",
      "Phase randomization at pixel 4 =              88 Å\n",
      "Phase randomization at pixel 4 =              88 Å\n",
      "Computing statistics...\n",
      "Phase randomization at pixel 3 =              1.2e+02 Å\n",
      "Phase randomization at pixel 3 =              1.2e+02 Å\n",
      "\n",
      "> EVALUATION for target:                  TEST\n",
      "GT_correlation:                           0.4030394077084348\n",
      "GT_resolution (Å) (th=0.143, 0.5):        4.097162005010008  7.203050313636772\n",
      "> RESULTS\n",
      "#Predictions\n",
      "mean_angular_error (°):                   125.34184265136719 \n",
      "w_mean_angular_error (°):                 125.56314075412797 \n",
      "shifts_RMSE (Å):                          8.842553565209004\n",
      "#Reconstruction\n",
      "half2half_correlation:                    0.047938590127074784\n",
      "half2half_resolution (Å) (th=0.143, 0.5): 11.215163211278735  17.171844598720902\n",
      "mapVsGT_correlaton (masked, unmasked):    0.15199259078249006  0.006187327213443356\n",
      "mapVsGT_resolution (Å) (th=0.143, 0.5)    72.83900893919157  92.18418637130982\n",
      "#Reconstruction differences\n",
      "cor_diff (%) (masked, unmasked):          25.104681692594475  39.685208049499145\n",
      "res_diff (Å) th=0.143, 0.5):              68.74184693418157  84.98113605767306\n",
      "            \n",
      "{'meanAngularError': 125.34184265136719, 'wMeanAngularError': 125.56314075412797, 'shiftsRMSE': 8.842553565209004, 'GT_correlation': 0.4030394077084348, 'GT_resolution0143': 4.097162005010008, 'GT_resolution05': 7.203050313636772, 'half2half_resolution': 11.215163211278735, 'half2half_resolution05': 17.171844598720902, 'half2half_correlation': 0.047938590127074784, 'mapVsGT_correlaton_masked': 0.15199259078249006, 'mapVsGT_correlaton_unmasked': 0.006187327213443356, 'mapVsGT_resolution': 72.83900893919157, 'mapVsGT_resolution05': 92.18418637130982}\n"
     ]
    }
   ],
   "source": [
    "from cesped.evaluateEntry import evaluate\n",
    "evaluation_metrics = evaluate(targetName=\"TEST\",\n",
    "            half0PredsFname=\"/tmp/predicted_poses_0.star\", \n",
    "            half1PredsFname=\"/tmp/predicted_poses_1.star\", \n",
    "            predictionType=\"SO3\", #Literal[\"S2\", \"SO3\", \"SO3xR2\"], \n",
    "            usePredConfidence=True,\n",
    "            n_cpus=1, \n",
    "            outdir=\"/tmp/evaluation/\")\n",
    "print(evaluation_metrics)"
   ]
  }
 ],
 "metadata": {
  "kernelspec": {
   "display_name": "Python 3 (ipykernel)",
   "language": "python",
   "name": "python3"
  },
  "language_info": {
   "codemirror_mode": {
    "name": "ipython",
    "version": 3
   },
   "file_extension": ".py",
   "mimetype": "text/x-python",
   "name": "python",
   "nbconvert_exporter": "python",
   "pygments_lexer": "ipython3",
   "version": "3.11.5"
  }
 },
 "nbformat": 4,
 "nbformat_minor": 5
}
