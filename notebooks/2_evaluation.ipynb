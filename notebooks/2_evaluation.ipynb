{
 "cells": [
  {
   "cell_type": "markdown",
   "id": "e6145edc-9496-490a-b71e-bbde60bb386f",
   "metadata": {},
   "source": [
    "# Evaluation\n",
    "In this notebook we will show how to run the evaluation tool. If you followed the previous notebook, you should have two files stored at `/tmp/`: `predicted_poses_0.star` and `predicted_poses_1.star`."
   ]
  },
  {
   "cell_type": "markdown",
   "id": "70549542-bf6c-4441-8c4f-96641320a4e1",
   "metadata": {},
   "source": [
    "To run the evaluation procedure you need to have a local installation of [RELION](https://relion.readthedocs.io/en/release-5.0/) or to build the singularity image we provide. Then you need to edit the `config/defaultRelionConfig.yaml` file to indicate where the RELION bin directory is, or where the built image is. To build the image, you just need to run:\n"
   ]
  },
  {
   "cell_type": "code",
   "execution_count": 14,
   "id": "43f00a34-d152-46f7-91cb-ef430b0b4e32",
   "metadata": {},
   "outputs": [
    {
     "name": "stdout",
     "output_type": "stream",
     "text": [
      "Using container recipe deffile: cesped/relionSingularity.def\n",
      "\u001b[31mERROR: You must be the root user to build from a Singularity recipe file\n",
      "\u001b(B\u001b[mCleaning up...\n"
     ]
    }
   ],
   "source": [
    "!singularity build -f  cesped/relionSingularity.sif cesped/relionSingularity.def"
   ]
  },
  {
   "cell_type": "code",
   "execution_count": 13,
   "id": "90fb90af-c7a4-40ab-bbb2-ac546f45647c",
   "metadata": {},
   "outputs": [
    {
     "name": "stdout",
     "output_type": "stream",
     "text": [
      "Downloading mask\n",
      "mpirun -np 2 /home/sanchezg/app/scipion/software/em/relion/bin/relion_reconstruct_mpi --i /home/sanchezg/tmp/cryoSupervisedDataset/TEST/particles_0.star --o /tmp/tmpeq2n_jjg.mrc --ctf --sym c1 --pad 2.0\n"
     ]
    },
    {
     "name": "stderr",
     "output_type": "stream",
     "text": [
      "Invalid MIT-MAGIC-COOKIE-1 key"
     ]
    },
    {
     "name": "stdout",
     "output_type": "stream",
     "text": [
      " === RELION MPI setup ===\n",
      " + Number of MPI processes             = 2\n",
      " + Leader  (0) runs on host            = stats2589\n",
      " + Follower     1 runs on host            = stats2589\n",
      " =================\n",
      " + Taking data dimensions from the first optics group: 2\n",
      " + Taking angpix from the first optics group: 0.844\n",
      " + Taking data dimensions from the first optics group: 2\n",
      " + Taking angpix from the first optics group: 0.844\n"
     ]
    },
    {
     "ename": "KeyboardInterrupt",
     "evalue": "",
     "output_type": "error",
     "traceback": [
      "\u001b[0;31m---------------------------------------------------------------------------\u001b[0m",
      "\u001b[0;31mKeyboardInterrupt\u001b[0m                         Traceback (most recent call last)",
      "Cell \u001b[0;32mIn[13], line 2\u001b[0m\n\u001b[1;32m      1\u001b[0m \u001b[38;5;28;01mfrom\u001b[39;00m \u001b[38;5;21;01mcesped\u001b[39;00m\u001b[38;5;21;01m.\u001b[39;00m\u001b[38;5;21;01mevaluateEntry\u001b[39;00m \u001b[38;5;28;01mimport\u001b[39;00m evaluate\n\u001b[0;32m----> 2\u001b[0m evaluation_metrics \u001b[38;5;241m=\u001b[39m \u001b[43mevaluate\u001b[49m\u001b[43m(\u001b[49m\u001b[43mtargetName\u001b[49m\u001b[38;5;241;43m=\u001b[39;49m\u001b[38;5;124;43m\"\u001b[39;49m\u001b[38;5;124;43mTEST\u001b[39;49m\u001b[38;5;124;43m\"\u001b[39;49m\u001b[43m,\u001b[49m\n\u001b[1;32m      3\u001b[0m \u001b[43m            \u001b[49m\u001b[43mhalf0PredsFname\u001b[49m\u001b[38;5;241;43m=\u001b[39;49m\u001b[38;5;124;43m\"\u001b[39;49m\u001b[38;5;124;43m/tmp/predicted_poses_0.star\u001b[39;49m\u001b[38;5;124;43m\"\u001b[39;49m\u001b[43m,\u001b[49m\u001b[43m \u001b[49m\n\u001b[1;32m      4\u001b[0m \u001b[43m            \u001b[49m\u001b[43mhalf1PredsFname\u001b[49m\u001b[38;5;241;43m=\u001b[39;49m\u001b[38;5;124;43m\"\u001b[39;49m\u001b[38;5;124;43m/tmp/predicted_poses_1.star\u001b[39;49m\u001b[38;5;124;43m\"\u001b[39;49m\u001b[43m,\u001b[49m\u001b[43m \u001b[49m\n\u001b[1;32m      5\u001b[0m \u001b[43m            \u001b[49m\u001b[43mpredictionType\u001b[49m\u001b[38;5;241;43m=\u001b[39;49m\u001b[38;5;124;43m\"\u001b[39;49m\u001b[38;5;124;43mSO3\u001b[39;49m\u001b[38;5;124;43m\"\u001b[39;49m\u001b[43m,\u001b[49m\u001b[43m \u001b[49m\u001b[38;5;66;43;03m#Literal[\"S2\", \"SO3\", \"SO3xR2\"], \u001b[39;49;00m\n\u001b[1;32m      6\u001b[0m \u001b[43m            \u001b[49m\u001b[43musePredConfidence\u001b[49m\u001b[38;5;241;43m=\u001b[39;49m\u001b[38;5;28;43;01mTrue\u001b[39;49;00m\u001b[43m,\u001b[49m\n\u001b[1;32m      7\u001b[0m \u001b[43m            \u001b[49m\u001b[43mn_cpus\u001b[49m\u001b[38;5;241;43m=\u001b[39;49m\u001b[38;5;241;43m2\u001b[39;49m\u001b[43m,\u001b[49m\u001b[43m \u001b[49m\n\u001b[1;32m      8\u001b[0m \u001b[43m            \u001b[49m\u001b[43moutdir\u001b[49m\u001b[38;5;241;43m=\u001b[39;49m\u001b[38;5;124;43m\"\u001b[39;49m\u001b[38;5;124;43m/tmp/evaluation/\u001b[39;49m\u001b[38;5;124;43m\"\u001b[39;49m\u001b[43m)\u001b[49m\n\u001b[1;32m      9\u001b[0m \u001b[38;5;28mprint\u001b[39m(evaluation_metrics)\n",
      "File \u001b[0;32m~/cryo/myProjects/cesped/cesped/evaluateEntry.py:391\u001b[0m, in \u001b[0;36mevaluate\u001b[0;34m(targetName, half0PredsFname, half1PredsFname, predictionType, usePredConfidence, benchmarkDir, relionBinDir, mpirun, relionSingularity, rm_prev_reconstructions, ignore_symmetry, use_gt_mask, n_cpus, outdir)\u001b[0m\n\u001b[1;32m    386\u001b[0m     outdir \u001b[38;5;241m=\u001b[39m tmpdir\n\u001b[1;32m    387\u001b[0m evaluator \u001b[38;5;241m=\u001b[39m Evaluator(predictionType, usePredConfidence\u001b[38;5;241m=\u001b[39musePredConfidence, benchmarkDir\u001b[38;5;241m=\u001b[39mbenchmarkDir,\n\u001b[1;32m    388\u001b[0m                       relionBinDir\u001b[38;5;241m=\u001b[39mrelionBinDir, mpirun\u001b[38;5;241m=\u001b[39mmpirun, relionSingularity\u001b[38;5;241m=\u001b[39mrelionSingularity,\n\u001b[1;32m    389\u001b[0m                       n_cpus\u001b[38;5;241m=\u001b[39mn_cpus, wdir\u001b[38;5;241m=\u001b[39moutdir,\n\u001b[1;32m    390\u001b[0m                       use_gt_mask\u001b[38;5;241m=\u001b[39muse_gt_mask)\n\u001b[0;32m--> 391\u001b[0m \u001b[38;5;28;01mreturn\u001b[39;00m \u001b[43mevaluator\u001b[49m\u001b[38;5;241;43m.\u001b[39;49m\u001b[43mrunEvaluate\u001b[49m\u001b[43m(\u001b[49m\u001b[43mtargetName\u001b[49m\u001b[43m,\u001b[49m\u001b[43m \u001b[49m\u001b[43mhalf0PredsFname\u001b[49m\u001b[43m,\u001b[49m\u001b[43m \u001b[49m\u001b[43mhalf1PredsFname\u001b[49m\u001b[43m,\u001b[49m\n\u001b[1;32m    392\u001b[0m \u001b[43m                             \u001b[49m\u001b[43mrm_prev_reconstructions\u001b[49m\u001b[43m,\u001b[49m\u001b[43m \u001b[49m\u001b[43mignore_symmetry\u001b[49m\u001b[43m)\u001b[49m\n",
      "File \u001b[0;32m~/cryo/myProjects/cesped/cesped/evaluateEntry.py:265\u001b[0m, in \u001b[0;36mEvaluator.runEvaluate\u001b[0;34m(self, targetName, half0PredsFname, half1PredsFname, rm_prev_reconstructions, ignore_symmetry)\u001b[0m\n\u001b[1;32m    262\u001b[0m     mask_fname \u001b[38;5;241m=\u001b[39m \u001b[38;5;28;01mNone\u001b[39;00m\n\u001b[1;32m    264\u001b[0m symmetry \u001b[38;5;241m=\u001b[39m ps0\u001b[38;5;241m.\u001b[39msymmetry \u001b[38;5;28;01mif\u001b[39;00m \u001b[38;5;129;01mnot\u001b[39;00m ignore_symmetry \u001b[38;5;28;01melse\u001b[39;00m \u001b[38;5;124m\"\u001b[39m\u001b[38;5;124mC1\u001b[39m\u001b[38;5;124m\"\u001b[39m\n\u001b[0;32m--> 265\u001b[0m gt_map, gt_sampling, gt_cor, gt_resolt0143, gt_resolt05 \u001b[38;5;241m=\u001b[39m \u001b[38;5;28;43mself\u001b[39;49m\u001b[38;5;241;43m.\u001b[39;49m\u001b[43mcomputeAvgMap\u001b[49m\u001b[43m(\u001b[49m\u001b[43mps0\u001b[49m\u001b[38;5;241;43m.\u001b[39;49m\u001b[43mstarFname\u001b[49m\u001b[43m,\u001b[49m\u001b[43m \u001b[49m\u001b[43mps1\u001b[49m\u001b[38;5;241;43m.\u001b[39;49m\u001b[43mstarFname\u001b[49m\u001b[43m,\u001b[49m\n\u001b[1;32m    266\u001b[0m \u001b[43m                                                                             \u001b[49m\u001b[43mparticlesDir\u001b[49m\u001b[38;5;241;43m=\u001b[39;49m\u001b[43mps0\u001b[49m\u001b[38;5;241;43m.\u001b[39;49m\u001b[43mdatadir\u001b[49m\u001b[43m,\u001b[49m\n\u001b[1;32m    267\u001b[0m \u001b[43m                                                                             \u001b[49m\u001b[43moutbasename\u001b[49m\u001b[38;5;241;43m=\u001b[39;49m\u001b[38;5;124;43m\"\u001b[39;49m\u001b[38;5;124;43mgt\u001b[39;49m\u001b[38;5;124;43m\"\u001b[39;49m\u001b[43m,\u001b[49m\n\u001b[1;32m    268\u001b[0m \u001b[43m                                                                             \u001b[49m\u001b[43msymmetry\u001b[49m\u001b[38;5;241;43m=\u001b[39;49m\u001b[43msymmetry\u001b[49m\u001b[43m,\u001b[49m\n\u001b[1;32m    269\u001b[0m \u001b[43m                                                                             \u001b[49m\u001b[43mcleanExisting\u001b[49m\u001b[38;5;241;43m=\u001b[39;49m\u001b[38;5;28;43;01mFalse\u001b[39;49;00m\u001b[43m,\u001b[49m\n\u001b[1;32m    270\u001b[0m \u001b[43m                                                                             \u001b[49m\u001b[43mmask\u001b[49m\u001b[38;5;241;43m=\u001b[39;49m\u001b[43mmask_fname\u001b[49m\u001b[43m)\u001b[49m\n\u001b[1;32m    271\u001b[0m prepStarFname0 \u001b[38;5;241m=\u001b[39m osp\u001b[38;5;241m.\u001b[39mjoin(tmpdir, \u001b[38;5;124m\"\u001b[39m\u001b[38;5;124mprepStarFname0.star\u001b[39m\u001b[38;5;124m\"\u001b[39m)\n\u001b[1;32m    272\u001b[0m _, meanAngularError0, wMeanAngularError0, shiftsRMSE0, totalConf0 \u001b[38;5;241m=\u001b[39m \\\n\u001b[1;32m    273\u001b[0m     \u001b[38;5;28mself\u001b[39m\u001b[38;5;241m.\u001b[39mpreparePredStar(ps0\u001b[38;5;241m.\u001b[39mstarFname, half0PredsFname, prepStarFname0, symmetry)\n",
      "File \u001b[0;32m~/cryo/myProjects/cesped/cesped/evaluateEntry.py:158\u001b[0m, in \u001b[0;36mEvaluator.computeAvgMap\u001b[0;34m(self, starFname0, starFname1, particlesDir, outbasename, symmetry, cleanExisting, mask)\u001b[0m\n\u001b[1;32m    143\u001b[0m \u001b[38;5;250m\u001b[39m\u001b[38;5;124;03m\"\"\"\u001b[39;00m\n\u001b[1;32m    144\u001b[0m \u001b[38;5;124;03mReconstruct each of the half-datasets starFname0 and starFname0 and averages the reconstruction to\u001b[39;00m\n\u001b[1;32m    145\u001b[0m \u001b[38;5;124;03mobtain the final average map\u001b[39;00m\n\u001b[0;32m   (...)\u001b[0m\n\u001b[1;32m    155\u001b[0m \n\u001b[1;32m    156\u001b[0m \u001b[38;5;124;03m\"\"\"\u001b[39;00m\n\u001b[1;32m    157\u001b[0m name0 \u001b[38;5;241m=\u001b[39m osp\u001b[38;5;241m.\u001b[39mjoin(\u001b[38;5;28mself\u001b[39m\u001b[38;5;241m.\u001b[39mwdir, outbasename \u001b[38;5;241m+\u001b[39m \u001b[38;5;124m\"\u001b[39m\u001b[38;5;124m_0.mrc\u001b[39m\u001b[38;5;124m\"\u001b[39m)\n\u001b[0;32m--> 158\u001b[0m data0, sr0 \u001b[38;5;241m=\u001b[39m \u001b[38;5;28;43mself\u001b[39;49m\u001b[38;5;241;43m.\u001b[39;49m\u001b[43mreconstruct\u001b[49m\u001b[43m(\u001b[49m\u001b[43mstarFname0\u001b[49m\u001b[43m,\u001b[49m\u001b[43m \u001b[49m\u001b[43mname0\u001b[49m\u001b[43m,\u001b[49m\u001b[43m \u001b[49m\u001b[43mparticlesDir\u001b[49m\u001b[43m,\u001b[49m\u001b[43m \u001b[49m\u001b[43msymmetry\u001b[49m\u001b[38;5;241;43m=\u001b[39;49m\u001b[43msymmetry\u001b[49m\u001b[43m,\u001b[49m\u001b[43m \u001b[49m\u001b[43mcleanExisting\u001b[49m\u001b[38;5;241;43m=\u001b[39;49m\u001b[43mcleanExisting\u001b[49m\u001b[43m)\u001b[49m\n\u001b[1;32m    160\u001b[0m name1 \u001b[38;5;241m=\u001b[39m osp\u001b[38;5;241m.\u001b[39mjoin(\u001b[38;5;28mself\u001b[39m\u001b[38;5;241m.\u001b[39mwdir, outbasename \u001b[38;5;241m+\u001b[39m \u001b[38;5;124m\"\u001b[39m\u001b[38;5;124m_1.mrc\u001b[39m\u001b[38;5;124m\"\u001b[39m)\n\u001b[1;32m    161\u001b[0m data1, sr1 \u001b[38;5;241m=\u001b[39m \u001b[38;5;28mself\u001b[39m\u001b[38;5;241m.\u001b[39mreconstruct(starFname1, name1, particlesDir, cleanExisting\u001b[38;5;241m=\u001b[39mcleanExisting)\n",
      "File \u001b[0;32m~/cryo/myProjects/cesped/cesped/evaluateEntry.py:104\u001b[0m, in \u001b[0;36mEvaluator.reconstruct\u001b[0;34m(self, starFname, outname, particlesDir, symmetry, cleanExisting)\u001b[0m\n\u001b[1;32m    102\u001b[0m \u001b[38;5;28;01mif\u001b[39;00m \u001b[38;5;28mself\u001b[39m\u001b[38;5;241m.\u001b[39mverbose:\n\u001b[1;32m    103\u001b[0m     \u001b[38;5;28mprint\u001b[39m(\u001b[38;5;124m\"\u001b[39m\u001b[38;5;124m \u001b[39m\u001b[38;5;124m\"\u001b[39m\u001b[38;5;241m.\u001b[39mjoin(cmd))\n\u001b[0;32m--> 104\u001b[0m \u001b[43msubprocess\u001b[49m\u001b[38;5;241;43m.\u001b[39;49m\u001b[43mrun\u001b[49m\u001b[43m(\u001b[49m\u001b[43mcmd\u001b[49m\u001b[43m,\u001b[49m\u001b[43m \u001b[49m\u001b[43mcwd\u001b[49m\u001b[38;5;241;43m=\u001b[39;49m\u001b[43mwdir\u001b[49m\u001b[43m,\u001b[49m\u001b[43m \u001b[49m\u001b[43mcheck\u001b[49m\u001b[38;5;241;43m=\u001b[39;49m\u001b[38;5;28;43;01mTrue\u001b[39;49;00m\u001b[43m,\u001b[49m\u001b[43m \u001b[49m\u001b[43mcapture_output\u001b[49m\u001b[38;5;241;43m=\u001b[39;49m\u001b[38;5;129;43;01mnot\u001b[39;49;00m\u001b[43m \u001b[49m\u001b[38;5;28;43mself\u001b[39;49m\u001b[38;5;241;43m.\u001b[39;49m\u001b[43mverbose\u001b[49m\u001b[43m)\u001b[49m\n\u001b[1;32m    105\u001b[0m f\u001b[38;5;241m.\u001b[39mseek(\u001b[38;5;241m0\u001b[39m)\n\u001b[1;32m    106\u001b[0m shutil\u001b[38;5;241m.\u001b[39mcopyfile(f\u001b[38;5;241m.\u001b[39mname, outname)\n",
      "File \u001b[0;32m~/app/anaconda3/envs/supervisedPoseBenchmark/lib/python3.11/subprocess.py:550\u001b[0m, in \u001b[0;36mrun\u001b[0;34m(input, capture_output, timeout, check, *popenargs, **kwargs)\u001b[0m\n\u001b[1;32m    548\u001b[0m \u001b[38;5;28;01mwith\u001b[39;00m Popen(\u001b[38;5;241m*\u001b[39mpopenargs, \u001b[38;5;241m*\u001b[39m\u001b[38;5;241m*\u001b[39mkwargs) \u001b[38;5;28;01mas\u001b[39;00m process:\n\u001b[1;32m    549\u001b[0m     \u001b[38;5;28;01mtry\u001b[39;00m:\n\u001b[0;32m--> 550\u001b[0m         stdout, stderr \u001b[38;5;241m=\u001b[39m \u001b[43mprocess\u001b[49m\u001b[38;5;241;43m.\u001b[39;49m\u001b[43mcommunicate\u001b[49m\u001b[43m(\u001b[49m\u001b[38;5;28;43minput\u001b[39;49m\u001b[43m,\u001b[49m\u001b[43m \u001b[49m\u001b[43mtimeout\u001b[49m\u001b[38;5;241;43m=\u001b[39;49m\u001b[43mtimeout\u001b[49m\u001b[43m)\u001b[49m\n\u001b[1;32m    551\u001b[0m     \u001b[38;5;28;01mexcept\u001b[39;00m TimeoutExpired \u001b[38;5;28;01mas\u001b[39;00m exc:\n\u001b[1;32m    552\u001b[0m         process\u001b[38;5;241m.\u001b[39mkill()\n",
      "File \u001b[0;32m~/app/anaconda3/envs/supervisedPoseBenchmark/lib/python3.11/subprocess.py:1201\u001b[0m, in \u001b[0;36mPopen.communicate\u001b[0;34m(self, input, timeout)\u001b[0m\n\u001b[1;32m   1199\u001b[0m         stderr \u001b[38;5;241m=\u001b[39m \u001b[38;5;28mself\u001b[39m\u001b[38;5;241m.\u001b[39mstderr\u001b[38;5;241m.\u001b[39mread()\n\u001b[1;32m   1200\u001b[0m         \u001b[38;5;28mself\u001b[39m\u001b[38;5;241m.\u001b[39mstderr\u001b[38;5;241m.\u001b[39mclose()\n\u001b[0;32m-> 1201\u001b[0m     \u001b[38;5;28;43mself\u001b[39;49m\u001b[38;5;241;43m.\u001b[39;49m\u001b[43mwait\u001b[49m\u001b[43m(\u001b[49m\u001b[43m)\u001b[49m\n\u001b[1;32m   1202\u001b[0m \u001b[38;5;28;01melse\u001b[39;00m:\n\u001b[1;32m   1203\u001b[0m     \u001b[38;5;28;01mif\u001b[39;00m timeout \u001b[38;5;129;01mis\u001b[39;00m \u001b[38;5;129;01mnot\u001b[39;00m \u001b[38;5;28;01mNone\u001b[39;00m:\n",
      "File \u001b[0;32m~/app/anaconda3/envs/supervisedPoseBenchmark/lib/python3.11/subprocess.py:1264\u001b[0m, in \u001b[0;36mPopen.wait\u001b[0;34m(self, timeout)\u001b[0m\n\u001b[1;32m   1262\u001b[0m     endtime \u001b[38;5;241m=\u001b[39m _time() \u001b[38;5;241m+\u001b[39m timeout\n\u001b[1;32m   1263\u001b[0m \u001b[38;5;28;01mtry\u001b[39;00m:\n\u001b[0;32m-> 1264\u001b[0m     \u001b[38;5;28;01mreturn\u001b[39;00m \u001b[38;5;28;43mself\u001b[39;49m\u001b[38;5;241;43m.\u001b[39;49m\u001b[43m_wait\u001b[49m\u001b[43m(\u001b[49m\u001b[43mtimeout\u001b[49m\u001b[38;5;241;43m=\u001b[39;49m\u001b[43mtimeout\u001b[49m\u001b[43m)\u001b[49m\n\u001b[1;32m   1265\u001b[0m \u001b[38;5;28;01mexcept\u001b[39;00m \u001b[38;5;167;01mKeyboardInterrupt\u001b[39;00m:\n\u001b[1;32m   1266\u001b[0m     \u001b[38;5;66;03m# https://bugs.python.org/issue25942\u001b[39;00m\n\u001b[1;32m   1267\u001b[0m     \u001b[38;5;66;03m# The first keyboard interrupt waits briefly for the child to\u001b[39;00m\n\u001b[1;32m   1268\u001b[0m     \u001b[38;5;66;03m# exit under the common assumption that it also received the ^C\u001b[39;00m\n\u001b[1;32m   1269\u001b[0m     \u001b[38;5;66;03m# generated SIGINT and will exit rapidly.\u001b[39;00m\n\u001b[1;32m   1270\u001b[0m     \u001b[38;5;28;01mif\u001b[39;00m timeout \u001b[38;5;129;01mis\u001b[39;00m \u001b[38;5;129;01mnot\u001b[39;00m \u001b[38;5;28;01mNone\u001b[39;00m:\n",
      "File \u001b[0;32m~/app/anaconda3/envs/supervisedPoseBenchmark/lib/python3.11/subprocess.py:2046\u001b[0m, in \u001b[0;36mPopen._wait\u001b[0;34m(self, timeout)\u001b[0m\n\u001b[1;32m   2044\u001b[0m \u001b[38;5;28;01mif\u001b[39;00m \u001b[38;5;28mself\u001b[39m\u001b[38;5;241m.\u001b[39mreturncode \u001b[38;5;129;01mis\u001b[39;00m \u001b[38;5;129;01mnot\u001b[39;00m \u001b[38;5;28;01mNone\u001b[39;00m:\n\u001b[1;32m   2045\u001b[0m     \u001b[38;5;28;01mbreak\u001b[39;00m  \u001b[38;5;66;03m# Another thread waited.\u001b[39;00m\n\u001b[0;32m-> 2046\u001b[0m (pid, sts) \u001b[38;5;241m=\u001b[39m \u001b[38;5;28;43mself\u001b[39;49m\u001b[38;5;241;43m.\u001b[39;49m\u001b[43m_try_wait\u001b[49m\u001b[43m(\u001b[49m\u001b[38;5;241;43m0\u001b[39;49m\u001b[43m)\u001b[49m\n\u001b[1;32m   2047\u001b[0m \u001b[38;5;66;03m# Check the pid and loop as waitpid has been known to\u001b[39;00m\n\u001b[1;32m   2048\u001b[0m \u001b[38;5;66;03m# return 0 even without WNOHANG in odd situations.\u001b[39;00m\n\u001b[1;32m   2049\u001b[0m \u001b[38;5;66;03m# http://bugs.python.org/issue14396.\u001b[39;00m\n\u001b[1;32m   2050\u001b[0m \u001b[38;5;28;01mif\u001b[39;00m pid \u001b[38;5;241m==\u001b[39m \u001b[38;5;28mself\u001b[39m\u001b[38;5;241m.\u001b[39mpid:\n",
      "File \u001b[0;32m~/app/anaconda3/envs/supervisedPoseBenchmark/lib/python3.11/subprocess.py:2004\u001b[0m, in \u001b[0;36mPopen._try_wait\u001b[0;34m(self, wait_flags)\u001b[0m\n\u001b[1;32m   2002\u001b[0m \u001b[38;5;250m\u001b[39m\u001b[38;5;124;03m\"\"\"All callers to this function MUST hold self._waitpid_lock.\"\"\"\u001b[39;00m\n\u001b[1;32m   2003\u001b[0m \u001b[38;5;28;01mtry\u001b[39;00m:\n\u001b[0;32m-> 2004\u001b[0m     (pid, sts) \u001b[38;5;241m=\u001b[39m \u001b[43mos\u001b[49m\u001b[38;5;241;43m.\u001b[39;49m\u001b[43mwaitpid\u001b[49m\u001b[43m(\u001b[49m\u001b[38;5;28;43mself\u001b[39;49m\u001b[38;5;241;43m.\u001b[39;49m\u001b[43mpid\u001b[49m\u001b[43m,\u001b[49m\u001b[43m \u001b[49m\u001b[43mwait_flags\u001b[49m\u001b[43m)\u001b[49m\n\u001b[1;32m   2005\u001b[0m \u001b[38;5;28;01mexcept\u001b[39;00m \u001b[38;5;167;01mChildProcessError\u001b[39;00m:\n\u001b[1;32m   2006\u001b[0m     \u001b[38;5;66;03m# This happens if SIGCLD is set to be ignored or waiting\u001b[39;00m\n\u001b[1;32m   2007\u001b[0m     \u001b[38;5;66;03m# for child processes has otherwise been disabled for our\u001b[39;00m\n\u001b[1;32m   2008\u001b[0m     \u001b[38;5;66;03m# process.  This child is dead, we can't get the status.\u001b[39;00m\n\u001b[1;32m   2009\u001b[0m     pid \u001b[38;5;241m=\u001b[39m \u001b[38;5;28mself\u001b[39m\u001b[38;5;241m.\u001b[39mpid\n",
      "\u001b[0;31mKeyboardInterrupt\u001b[0m: "
     ]
    }
   ],
   "source": [
    "from cesped.evaluateEntry import evaluate\n",
    "evaluation_metrics = evaluate(targetName=\"TEST\",\n",
    "            half0PredsFname=\"/tmp/predicted_poses_0.star\", \n",
    "            half1PredsFname=\"/tmp/predicted_poses_1.star\", \n",
    "            predictionType=\"SO3\", #Literal[\"S2\", \"SO3\", \"SO3xR2\"], \n",
    "            usePredConfidence=True,\n",
    "            n_cpus=2, \n",
    "            outdir=\"/tmp/evaluation/\")\n",
    "print(evaluation_metrics)"
   ]
  },
  {
   "cell_type": "code",
   "execution_count": null,
   "id": "47f93700-d58d-4d80-8d36-c4c28e4c22fa",
   "metadata": {},
   "outputs": [],
   "source": []
  }
 ],
 "metadata": {
  "kernelspec": {
   "display_name": "Python 3 (ipykernel)",
   "language": "python",
   "name": "python3"
  },
  "language_info": {
   "codemirror_mode": {
    "name": "ipython",
    "version": 3
   },
   "file_extension": ".py",
   "mimetype": "text/x-python",
   "name": "python",
   "nbconvert_exporter": "python",
   "pygments_lexer": "ipython3",
   "version": "3.11.5"
  }
 },
 "nbformat": 4,
 "nbformat_minor": 5
}
